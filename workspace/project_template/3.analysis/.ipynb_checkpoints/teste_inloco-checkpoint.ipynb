{
 "cells": [
  {
   "cell_type": "markdown",
   "metadata": {},
   "source": [
    "## **Teste In Loco**\n",
    "\n",
    "### Importando Bibliotecas"
   ]
  },
  {
   "cell_type": "code",
   "execution_count": 1,
   "metadata": {},
   "outputs": [],
   "source": [
    "import numpy as np\n",
    "import pandas as pd\n",
    "import matplotlib.pyplot as plt"
   ]
  },
  {
   "cell_type": "markdown",
   "metadata": {},
   "source": [
    "### Análise do CSV"
   ]
  },
  {
   "cell_type": "code",
   "execution_count": 2,
   "metadata": {},
   "outputs": [],
   "source": [
    "df = pd.read_csv('../2.processed/Testedata.csv')"
   ]
  },
  {
   "cell_type": "code",
   "execution_count": 3,
   "metadata": {},
   "outputs": [
    {
     "name": "stdout",
     "output_type": "stream",
     "text": [
      "<class 'pandas.core.frame.DataFrame'>\n",
      "RangeIndex: 30802 entries, 0 to 30801\n",
      "Data columns (total 7 columns):\n",
      "user           30802 non-null object\n",
      "latitude       30802 non-null float64\n",
      "longitude      30802 non-null float64\n",
      "date           30802 non-null object\n",
      "day_of_week    30802 non-null object\n",
      "hour           30802 non-null int64\n",
      "categoria      30802 non-null object\n",
      "dtypes: float64(2), int64(1), object(4)\n",
      "memory usage: 1.6+ MB\n"
     ]
    }
   ],
   "source": [
    "df.info()"
   ]
  },
  {
   "cell_type": "code",
   "execution_count": 4,
   "metadata": {},
   "outputs": [
    {
     "data": {
      "text/html": [
       "<div>\n",
       "<style scoped>\n",
       "    .dataframe tbody tr th:only-of-type {\n",
       "        vertical-align: middle;\n",
       "    }\n",
       "\n",
       "    .dataframe tbody tr th {\n",
       "        vertical-align: top;\n",
       "    }\n",
       "\n",
       "    .dataframe thead th {\n",
       "        text-align: right;\n",
       "    }\n",
       "</style>\n",
       "<table border=\"1\" class=\"dataframe\">\n",
       "  <thead>\n",
       "    <tr style=\"text-align: right;\">\n",
       "      <th></th>\n",
       "      <th>user</th>\n",
       "      <th>latitude</th>\n",
       "      <th>longitude</th>\n",
       "      <th>date</th>\n",
       "      <th>day_of_week</th>\n",
       "      <th>hour</th>\n",
       "      <th>categoria</th>\n",
       "    </tr>\n",
       "  </thead>\n",
       "  <tbody>\n",
       "    <tr>\n",
       "      <th>0</th>\n",
       "      <td>User_3401</td>\n",
       "      <td>-26.489503</td>\n",
       "      <td>-49.028018</td>\n",
       "      <td>2018-07-08</td>\n",
       "      <td>Saturday</td>\n",
       "      <td>18</td>\n",
       "      <td>bakery</td>\n",
       "    </tr>\n",
       "    <tr>\n",
       "      <th>1</th>\n",
       "      <td>User_539</td>\n",
       "      <td>-14.457400</td>\n",
       "      <td>-46.433148</td>\n",
       "      <td>2018-07-08</td>\n",
       "      <td>Sunday</td>\n",
       "      <td>7</td>\n",
       "      <td>restaurant</td>\n",
       "    </tr>\n",
       "    <tr>\n",
       "      <th>2</th>\n",
       "      <td>User_789</td>\n",
       "      <td>-8.903859</td>\n",
       "      <td>-36.487485</td>\n",
       "      <td>2018-07-08</td>\n",
       "      <td>Saturday</td>\n",
       "      <td>9</td>\n",
       "      <td>night_club</td>\n",
       "    </tr>\n",
       "    <tr>\n",
       "      <th>3</th>\n",
       "      <td>User_2814</td>\n",
       "      <td>-22.823960</td>\n",
       "      <td>-43.012243</td>\n",
       "      <td>2018-07-08</td>\n",
       "      <td>Saturday</td>\n",
       "      <td>22</td>\n",
       "      <td>store</td>\n",
       "    </tr>\n",
       "    <tr>\n",
       "      <th>4</th>\n",
       "      <td>User_3432</td>\n",
       "      <td>-24.949576</td>\n",
       "      <td>-53.488507</td>\n",
       "      <td>2018-07-08</td>\n",
       "      <td>Sunday</td>\n",
       "      <td>3</td>\n",
       "      <td>restaurant</td>\n",
       "    </tr>\n",
       "  </tbody>\n",
       "</table>\n",
       "</div>"
      ],
      "text/plain": [
       "        user   latitude  longitude        date day_of_week  hour   categoria\n",
       "0  User_3401 -26.489503 -49.028018  2018-07-08    Saturday    18      bakery\n",
       "1   User_539 -14.457400 -46.433148  2018-07-08      Sunday     7  restaurant\n",
       "2   User_789  -8.903859 -36.487485  2018-07-08    Saturday     9  night_club\n",
       "3  User_2814 -22.823960 -43.012243  2018-07-08    Saturday    22       store\n",
       "4  User_3432 -24.949576 -53.488507  2018-07-08      Sunday     3  restaurant"
      ]
     },
     "execution_count": 4,
     "metadata": {},
     "output_type": "execute_result"
    }
   ],
   "source": [
    "df.head()"
   ]
  },
  {
   "cell_type": "code",
   "execution_count": 5,
   "metadata": {},
   "outputs": [],
   "source": [
    "#Transformação da data de \"objeto\" para \"date\"\n",
    "df['date'] = pd.to_datetime(df['date'])"
   ]
  },
  {
   "cell_type": "code",
   "execution_count": 6,
   "metadata": {},
   "outputs": [
    {
     "data": {
      "text/plain": [
       "array(['bakery', 'restaurant', 'night_club', 'store', 'pet_store',\n",
       "       'school', 'place_of_worship', 'doctor', 'hospital', 'car_repair',\n",
       "       'beauty_salon', 'campground', 'hair_care', 'bar', 'storage',\n",
       "       'car_dealer', 'cultural_venue', 'gas_station', 'cafe',\n",
       "       'electronics_store', 'well_being', 'shopping_mall', 'qsr',\n",
       "       'courthouse', 'bowling_alley', 'grocery_or_supermarket',\n",
       "       'sports_center', 'lodging', 'city_hall', 'electrician', 'plumber',\n",
       "       'bank', 'car_wash', 'gym', 'shoe_store', 'university',\n",
       "       'bus_station', 'car_rental', 'furniture_store', 'movie_theater',\n",
       "       'laundry', 'accounting', 'pharmacy', 'florist', 'moving_company',\n",
       "       'real_estate_agency', 'lawyer', 'movie_rental', 'amusement_park',\n",
       "       'police', 'jewelry_store', 'public_transportation', 'taxi_stand',\n",
       "       'fire_station', 'locksmith', 'park', 'book_store',\n",
       "       'home_goods_store', 'travel_agency', 'airport',\n",
       "       'local_government_office', 'roofing_contractor', 'stadium',\n",
       "       'parking', 'post_office', 'insurance_agency', 'department_store',\n",
       "       'atm', 'spa', 'liquor_store', 'library', 'cemetery',\n",
       "       'convenience_store', 'train_station', 'public_building',\n",
       "       'subway_station', 'veterinary_care', 'community_center',\n",
       "       'funeral_home', 'painter', 'meal_delivery', 'playground', 'casino',\n",
       "       'garden', 'car_parts_store', 'food_court', 'zoo', 'embassy',\n",
       "       'rv_park', 'driving_school', 'motorcycle_store', 'swimming_pool',\n",
       "       'meal_takeaway', 'correctional_facility'], dtype=object)"
      ]
     },
     "execution_count": 6,
     "metadata": {},
     "output_type": "execute_result"
    }
   ],
   "source": [
    "#Observar as categorias existentes.\n",
    "df[\"categoria\"].unique()"
   ]
  },
  {
   "cell_type": "markdown",
   "metadata": {},
   "source": [
    "#### É importante observar que para garantir que não hajam inconsistências no banco, a primeira coisa que pensei , era se a coluna de data era compativel com o valor presente na coluna day_of_week."
   ]
  },
  {
   "cell_type": "code",
   "execution_count": 7,
   "metadata": {},
   "outputs": [],
   "source": [
    "#Para isso a partir da data criei uma nova coluna contendo os dias da semana certos.\n",
    "df['dia_da_semana'] = df['date'].dt.day_name()"
   ]
  },
  {
   "cell_type": "code",
   "execution_count": 8,
   "metadata": {},
   "outputs": [
    {
     "data": {
      "text/plain": [
       "26152"
      ]
     },
     "execution_count": 8,
     "metadata": {},
     "output_type": "execute_result"
    }
   ],
   "source": [
    "#Depois disso tentei comparar ambas as colunas para saber o número de dias da semana divergentes.\n",
    "df[df['dia_da_semana'] != df['day_of_week']].count()['date']"
   ]
  },
  {
   "cell_type": "code",
   "execution_count": 9,
   "metadata": {},
   "outputs": [
    {
     "data": {
      "text/html": [
       "<div>\n",
       "<style scoped>\n",
       "    .dataframe tbody tr th:only-of-type {\n",
       "        vertical-align: middle;\n",
       "    }\n",
       "\n",
       "    .dataframe tbody tr th {\n",
       "        vertical-align: top;\n",
       "    }\n",
       "\n",
       "    .dataframe thead th {\n",
       "        text-align: right;\n",
       "    }\n",
       "</style>\n",
       "<table border=\"1\" class=\"dataframe\">\n",
       "  <thead>\n",
       "    <tr style=\"text-align: right;\">\n",
       "      <th></th>\n",
       "      <th>user</th>\n",
       "      <th>latitude</th>\n",
       "      <th>longitude</th>\n",
       "      <th>date</th>\n",
       "      <th>hour</th>\n",
       "      <th>categoria</th>\n",
       "      <th>dia_da_semana</th>\n",
       "    </tr>\n",
       "  </thead>\n",
       "  <tbody>\n",
       "    <tr>\n",
       "      <th>0</th>\n",
       "      <td>User_3401</td>\n",
       "      <td>-26.489503</td>\n",
       "      <td>-49.028018</td>\n",
       "      <td>2018-07-08</td>\n",
       "      <td>18</td>\n",
       "      <td>bakery</td>\n",
       "      <td>Sunday</td>\n",
       "    </tr>\n",
       "    <tr>\n",
       "      <th>1</th>\n",
       "      <td>User_539</td>\n",
       "      <td>-14.457400</td>\n",
       "      <td>-46.433148</td>\n",
       "      <td>2018-07-08</td>\n",
       "      <td>7</td>\n",
       "      <td>restaurant</td>\n",
       "      <td>Sunday</td>\n",
       "    </tr>\n",
       "    <tr>\n",
       "      <th>2</th>\n",
       "      <td>User_789</td>\n",
       "      <td>-8.903859</td>\n",
       "      <td>-36.487485</td>\n",
       "      <td>2018-07-08</td>\n",
       "      <td>9</td>\n",
       "      <td>night_club</td>\n",
       "      <td>Sunday</td>\n",
       "    </tr>\n",
       "    <tr>\n",
       "      <th>3</th>\n",
       "      <td>User_2814</td>\n",
       "      <td>-22.823960</td>\n",
       "      <td>-43.012243</td>\n",
       "      <td>2018-07-08</td>\n",
       "      <td>22</td>\n",
       "      <td>store</td>\n",
       "      <td>Sunday</td>\n",
       "    </tr>\n",
       "    <tr>\n",
       "      <th>4</th>\n",
       "      <td>User_3432</td>\n",
       "      <td>-24.949576</td>\n",
       "      <td>-53.488507</td>\n",
       "      <td>2018-07-08</td>\n",
       "      <td>3</td>\n",
       "      <td>restaurant</td>\n",
       "      <td>Sunday</td>\n",
       "    </tr>\n",
       "  </tbody>\n",
       "</table>\n",
       "</div>"
      ],
      "text/plain": [
       "        user   latitude  longitude       date  hour   categoria dia_da_semana\n",
       "0  User_3401 -26.489503 -49.028018 2018-07-08    18      bakery        Sunday\n",
       "1   User_539 -14.457400 -46.433148 2018-07-08     7  restaurant        Sunday\n",
       "2   User_789  -8.903859 -36.487485 2018-07-08     9  night_club        Sunday\n",
       "3  User_2814 -22.823960 -43.012243 2018-07-08    22       store        Sunday\n",
       "4  User_3432 -24.949576 -53.488507 2018-07-08     3  restaurant        Sunday"
      ]
     },
     "execution_count": 9,
     "metadata": {},
     "output_type": "execute_result"
    }
   ],
   "source": [
    "#Drop da coluna incorreta\n",
    "df = df.drop(columns='day_of_week')\n",
    "df.head()"
   ]
  },
  {
   "cell_type": "markdown",
   "metadata": {},
   "source": [
    "#### Depois disso decidi investigar inconsistências de horário, do tipo horário inexistentes como horários negativos ou pós 23 horas"
   ]
  },
  {
   "cell_type": "code",
   "execution_count": 10,
   "metadata": {},
   "outputs": [
    {
     "data": {
      "text/plain": [
       "count    30802.000000\n",
       "mean        13.507597\n",
       "std          5.162345\n",
       "min          0.000000\n",
       "25%         10.000000\n",
       "50%         13.000000\n",
       "75%         18.000000\n",
       "max         23.000000\n",
       "Name: hour, dtype: float64"
      ]
     },
     "execution_count": 10,
     "metadata": {},
     "output_type": "execute_result"
    }
   ],
   "source": [
    "# Ao observar é possível ver que meu range de hora está dentro do esperado, onde o mínimo esta em 00:00 \n",
    "# e o máximo em 23:00\n",
    "df['hour'].describe()"
   ]
  },
  {
   "cell_type": "code",
   "execution_count": 11,
   "metadata": {},
   "outputs": [
    {
     "data": {
      "text/html": [
       "<div>\n",
       "<style scoped>\n",
       "    .dataframe tbody tr th:only-of-type {\n",
       "        vertical-align: middle;\n",
       "    }\n",
       "\n",
       "    .dataframe tbody tr th {\n",
       "        vertical-align: top;\n",
       "    }\n",
       "\n",
       "    .dataframe thead th {\n",
       "        text-align: right;\n",
       "    }\n",
       "</style>\n",
       "<table border=\"1\" class=\"dataframe\">\n",
       "  <thead>\n",
       "    <tr style=\"text-align: right;\">\n",
       "      <th></th>\n",
       "      <th>count</th>\n",
       "      <th>mean</th>\n",
       "      <th>std</th>\n",
       "      <th>min</th>\n",
       "      <th>25%</th>\n",
       "      <th>50%</th>\n",
       "      <th>75%</th>\n",
       "      <th>max</th>\n",
       "    </tr>\n",
       "    <tr>\n",
       "      <th>categoria</th>\n",
       "      <th></th>\n",
       "      <th></th>\n",
       "      <th></th>\n",
       "      <th></th>\n",
       "      <th></th>\n",
       "      <th></th>\n",
       "      <th></th>\n",
       "      <th></th>\n",
       "    </tr>\n",
       "  </thead>\n",
       "  <tbody>\n",
       "    <tr>\n",
       "      <th>bank</th>\n",
       "      <td>511.0</td>\n",
       "      <td>13.688845</td>\n",
       "      <td>5.015960</td>\n",
       "      <td>0.0</td>\n",
       "      <td>10.0</td>\n",
       "      <td>14.0</td>\n",
       "      <td>17.0</td>\n",
       "      <td>23.0</td>\n",
       "    </tr>\n",
       "    <tr>\n",
       "      <th>grocery_or_supermarket</th>\n",
       "      <td>1103.0</td>\n",
       "      <td>13.360834</td>\n",
       "      <td>5.299419</td>\n",
       "      <td>0.0</td>\n",
       "      <td>10.0</td>\n",
       "      <td>13.0</td>\n",
       "      <td>18.0</td>\n",
       "      <td>23.0</td>\n",
       "    </tr>\n",
       "    <tr>\n",
       "      <th>lawyer</th>\n",
       "      <td>137.0</td>\n",
       "      <td>13.883212</td>\n",
       "      <td>5.583676</td>\n",
       "      <td>0.0</td>\n",
       "      <td>10.0</td>\n",
       "      <td>14.0</td>\n",
       "      <td>18.0</td>\n",
       "      <td>23.0</td>\n",
       "    </tr>\n",
       "    <tr>\n",
       "      <th>night_club</th>\n",
       "      <td>150.0</td>\n",
       "      <td>14.246667</td>\n",
       "      <td>5.255788</td>\n",
       "      <td>0.0</td>\n",
       "      <td>11.0</td>\n",
       "      <td>14.0</td>\n",
       "      <td>19.0</td>\n",
       "      <td>23.0</td>\n",
       "    </tr>\n",
       "    <tr>\n",
       "      <th>pharmacy</th>\n",
       "      <td>439.0</td>\n",
       "      <td>13.560364</td>\n",
       "      <td>5.022813</td>\n",
       "      <td>0.0</td>\n",
       "      <td>10.0</td>\n",
       "      <td>13.0</td>\n",
       "      <td>18.0</td>\n",
       "      <td>23.0</td>\n",
       "    </tr>\n",
       "  </tbody>\n",
       "</table>\n",
       "</div>"
      ],
      "text/plain": [
       "                         count       mean       std  min   25%   50%   75%  \\\n",
       "categoria                                                                    \n",
       "bank                     511.0  13.688845  5.015960  0.0  10.0  14.0  17.0   \n",
       "grocery_or_supermarket  1103.0  13.360834  5.299419  0.0  10.0  13.0  18.0   \n",
       "lawyer                   137.0  13.883212  5.583676  0.0  10.0  14.0  18.0   \n",
       "night_club               150.0  14.246667  5.255788  0.0  11.0  14.0  19.0   \n",
       "pharmacy                 439.0  13.560364  5.022813  0.0  10.0  13.0  18.0   \n",
       "\n",
       "                         max  \n",
       "categoria                     \n",
       "bank                    23.0  \n",
       "grocery_or_supermarket  23.0  \n",
       "lawyer                  23.0  \n",
       "night_club              23.0  \n",
       "pharmacy                23.0  "
      ]
     },
     "execution_count": 11,
     "metadata": {},
     "output_type": "execute_result"
    }
   ],
   "source": [
    "#Depois disso eu decidi investigar o horário de acordo com o tipo de estabelecimento\n",
    "df.query('categoria in (\"night_club\", \"pharmacy\",\"grocery_or_supermarket\",\"lawyer\",\"bank\")').groupby([\"categoria\"]).describe()['hour']"
   ]
  },
  {
   "cell_type": "markdown",
   "metadata": {},
   "source": [
    "#### No resultado acima é possível se notar algumas inconsistências, pois a distribuição de tempo para cada estabelecimento, mostra que apesar de estarem presentes estabelecimentos 24 horas como a farmácia e ou supermercado, aparece que a média de horário para o clube noturno é as 14 horas onde o estabelecimento estaría fechado. O mesmo ocorre com o banco e a advocacia que são estabelecimentos que normalmente apenas funcionam em horário comercial e tem como mínimo e máximo visitas a estes estabelecimentos a 00:00 e as 23 horas."
   ]
  },
  {
   "cell_type": "markdown",
   "metadata": {},
   "source": [
    "#### Depois, resolvi saber se poderiam haver inconsistências do tipo um usuário estar em dois lugares diferentes ao mesmo tempo."
   ]
  },
  {
   "cell_type": "code",
   "execution_count": 12,
   "metadata": {},
   "outputs": [
    {
     "name": "stdout",
     "output_type": "stream",
     "text": [
      "categoria    290\n",
      "dtype: int64\n"
     ]
    },
    {
     "data": {
      "text/html": [
       "<div>\n",
       "<style scoped>\n",
       "    .dataframe tbody tr th:only-of-type {\n",
       "        vertical-align: middle;\n",
       "    }\n",
       "\n",
       "    .dataframe tbody tr th {\n",
       "        vertical-align: top;\n",
       "    }\n",
       "\n",
       "    .dataframe thead th {\n",
       "        text-align: right;\n",
       "    }\n",
       "</style>\n",
       "<table border=\"1\" class=\"dataframe\">\n",
       "  <thead>\n",
       "    <tr style=\"text-align: right;\">\n",
       "      <th></th>\n",
       "      <th></th>\n",
       "      <th></th>\n",
       "      <th>categoria</th>\n",
       "    </tr>\n",
       "    <tr>\n",
       "      <th>user</th>\n",
       "      <th>date</th>\n",
       "      <th>hour</th>\n",
       "      <th></th>\n",
       "    </tr>\n",
       "  </thead>\n",
       "  <tbody>\n",
       "    <tr>\n",
       "      <th>User_1005</th>\n",
       "      <th>2018-07-10</th>\n",
       "      <th>18</th>\n",
       "      <td>2</td>\n",
       "    </tr>\n",
       "    <tr>\n",
       "      <th>User_1029</th>\n",
       "      <th>2018-07-06</th>\n",
       "      <th>11</th>\n",
       "      <td>2</td>\n",
       "    </tr>\n",
       "    <tr>\n",
       "      <th>User_1033</th>\n",
       "      <th>2018-07-12</th>\n",
       "      <th>17</th>\n",
       "      <td>2</td>\n",
       "    </tr>\n",
       "    <tr>\n",
       "      <th>User_1039</th>\n",
       "      <th>2018-07-09</th>\n",
       "      <th>13</th>\n",
       "      <td>2</td>\n",
       "    </tr>\n",
       "    <tr>\n",
       "      <th>User_1044</th>\n",
       "      <th>2018-07-04</th>\n",
       "      <th>11</th>\n",
       "      <td>2</td>\n",
       "    </tr>\n",
       "  </tbody>\n",
       "</table>\n",
       "</div>"
      ],
      "text/plain": [
       "                           categoria\n",
       "user      date       hour           \n",
       "User_1005 2018-07-10 18            2\n",
       "User_1029 2018-07-06 11            2\n",
       "User_1033 2018-07-12 17            2\n",
       "User_1039 2018-07-09 13            2\n",
       "User_1044 2018-07-04 11            2"
      ]
     },
     "execution_count": 12,
     "metadata": {},
     "output_type": "execute_result"
    }
   ],
   "source": [
    "dfc = df.groupby([\"user\",\"date\",\"hour\"])['categoria'].count()\n",
    "dfc = pd.DataFrame(dfc)\n",
    "dfc = dfc.query(\"categoria > 1\")\n",
    "dfc.count()\n",
    "print(dfc.count())\n",
    "dfc.head()"
   ]
  },
  {
   "cell_type": "markdown",
   "metadata": {},
   "source": [
    "#### Acima podemos ver que há 290 casos onde um visitante estava em dois lugares ao mesmo tempo, na mesma data e no mesmo horário."
   ]
  },
  {
   "cell_type": "markdown",
   "metadata": {},
   "source": [
    "#### É importante observar que os dados de geolocalização são importantes mas ao investigar em SQL se um usuário esteve em um mesmo lugar duas vezes os dados não se repetiram ou ao diminuir o range da latitute e longitude até se observou agrupamentos mas em estabelecimentos diferentes, assim não sendo possível determinar a frequencia ao qual um usuário visita um mesmo estabelecimento o que auxiliaria se fosse treinado um algoritmo de recomendação como o k-means para recomendarmos um estabelecimento para pessoas de mesmo perfil."
   ]
  },
  {
   "cell_type": "code",
   "execution_count": 156,
   "metadata": {},
   "outputs": [],
   "source": [
    "sql = '''select concat(round(latitude::numeric, 10), round(longitude::numeric, 10)), count(*), array_agg(categoria) from user_activity\n",
    "group by concat(round(latitude::numeric, 10), round(longitude::numeric, 10))\n",
    "having count(*) > 1\n",
    "order by concat(round(latitude::numeric, 10), round(longitude::numeric, 10))'''"
   ]
  },
  {
   "cell_type": "code",
   "execution_count": 160,
   "metadata": {},
   "outputs": [],
   "source": [
    "import psycopg2 as pg2\n",
    "conn = pg2.connect(host='postgres',database='postgres',user='postgres',password='postgres')"
   ]
  },
  {
   "cell_type": "code",
   "execution_count": 161,
   "metadata": {},
   "outputs": [
    {
     "data": {
      "text/plain": [
       "[('0.0395850000-51.0695640000', 2, ['school', 'doctor']),\n",
       " ('0.0407030000-51.0482810000', 2, ['city_hall', 'restaurant']),\n",
       " ('-12.2583290000-38.9630560000', 2, ['electronics_store', 'restaurant']),\n",
       " ('-12.8654030000-38.4565330000', 2, ['store', 'restaurant']),\n",
       " ('-20.5073890000-47.3921270000', 2, ['gas_station', 'store']),\n",
       " ('-23.1798460000-45.8844150000', 2, ['bank', 'travel_agency']),\n",
       " ('-23.2776620000-45.9508810000', 2, ['bakery', 'gas_station']),\n",
       " ('-23.5901670000-46.7397010000', 2, ['electronics_store', 'store']),\n",
       " ('-23.6780440000-46.6233540000', 2, ['gym', 'park']),\n",
       " ('-23.7132500000-46.4288570000', 2, ['bar', 'school']),\n",
       " ('-23.9624080000-46.3246950000', 2, ['locksmith', 'restaurant']),\n",
       " ('-25.4658680000-49.2535740000', 2, ['restaurant', 'store']),\n",
       " ('-5.0531810000-42.8293600000', 2, ['restaurant', 'gas_station']),\n",
       " ('-7.2329720000-39.3121970000', 2, ['doctor', 'grocery_or_supermarket']),\n",
       " ('-8.0590370000-34.8867270000', 2, ['bar', 'store'])]"
      ]
     },
     "execution_count": 161,
     "metadata": {},
     "output_type": "execute_result"
    }
   ],
   "source": [
    "cur = conn.cursor()\n",
    "cur.execute(sql)\n",
    "cur.fetchall()"
   ]
  },
  {
   "cell_type": "markdown",
   "metadata": {},
   "source": [
    "### **1º) Proponha e responda 5 perguntas a partir dos dados disponibilizados que podem gerar valor para o negócio do varejista em questão, considerando os serviços que a In Loco oferece. Ex: Como os dados de visitas dos seus clientes podem direcionar o seu negócio? Descreva as ferramentas e técnicas utilizadas para responder este item.**"
   ]
  },
  {
   "cell_type": "markdown",
   "metadata": {},
   "source": [
    "#### **1)** Como primeira pergunta eu iria sugerir **\"Quais seriam os horários de maior frequencia de visitas por categoria\"**, pois com isso o cliente poderia saber para os negócios do mesmo segmento que o dele, quais os horários de maior atratividade de visitantes, mas como os horários estão inconsistentes isso não será possível."
   ]
  },
  {
   "cell_type": "markdown",
   "metadata": {},
   "source": [
    "#### 2)Quais os dias da semana de maior frequencia por categoria."
   ]
  },
  {
   "cell_type": "code",
   "execution_count": 27,
   "metadata": {},
   "outputs": [
    {
     "name": "stderr",
     "output_type": "stream",
     "text": [
      "/usr/local/lib/python3.6/site-packages/ipykernel_launcher.py:3: FutureWarning: specifying 'categories' or 'ordered' in .astype() is deprecated; pass a CategoricalDtype instead\n",
      "  This is separate from the ipykernel package so we can avoid doing imports until\n"
     ]
    },
    {
     "data": {
      "text/plain": [
       "<matplotlib.axes._subplots.AxesSubplot at 0x7f019f625438>"
      ]
     },
     "execution_count": 27,
     "metadata": {},
     "output_type": "execute_result"
    },
    {
     "data": {
      "image/png": "[encoded data removed]",
      "text/plain": [
       "<Figure size 576x396 with 1 Axes>"
      ]
     },
     "metadata": {},
     "output_type": "display_data"
    }
   ],
   "source": [
    "# Trocando a categoria é possível ver no gráfico quais são os dias da semana que os usuários mais foram em baladas.\n",
    "cats = [ 'Monday', 'Tuesday', 'Wednesday', 'Thursday', 'Friday', 'Saturday', 'Sunday']\n",
    "df['dia_da_semana'] = df['dia_da_semana'].astype('category', categories=cats, ordered=True)\n",
    "plt.style.use('seaborn')\n",
    "bar_x = df[df['categoria'] == 'grocery_or_supermarket'].groupby([\"dia_da_semana\"])['hour'].count()\n",
    "bar_x.plot.bar()"
   ]
  },
  {
   "cell_type": "markdown",
   "metadata": {},
   "source": [
    "#### No caso acima poderiamos informar que os nossos usuários costumam visitar o supermercado mais próximo ao decorrer do fim de semana, principalmente no sábado e no domingo e com isso nosso varejista pode tentar mandar campanhas direcionadas aos usuários durante esses dois dias."
   ]
  },
  {
   "cell_type": "markdown",
   "metadata": {},
   "source": [
    "#### 3) Qual o número máximo e mínimo de usuários por categoria?"
   ]
  },
  {
   "cell_type": "markdown",
   "metadata": {},
   "source": [
    "#### Essa informação é muito importante, pois caso nosso usuário trabalhe com redução de custo, saber o máximo e o mínimo de visitas permite que nosso cliente ajuste a faixa de quantas tiragens de panfletos irá produzir e quantos ele precisaria para cada dia da semana ao agruparmos e retirarmos esses valores por dia da semana."
   ]
  },
  {
   "cell_type": "code",
   "execution_count": 76,
   "metadata": {},
   "outputs": [
    {
     "data": {
      "text/plain": [
       "categoria\n",
       "restaurant                513\n",
       "store                     281\n",
       "school                    150\n",
       "doctor                    111\n",
       "grocery_or_supermarket    100\n",
       "bar                        84\n",
       "lodging                    78\n",
       "storage                    77\n",
       "car_repair                 76\n",
       "electronics_store          68\n",
       "Name: user, dtype: int64"
      ]
     },
     "execution_count": 76,
     "metadata": {},
     "output_type": "execute_result"
    }
   ],
   "source": [
    "dfmax = df.groupby([\"date\",\"categoria\"]).count()\n",
    "#Aqui podemos ver facilmente quais foram o número máximo de visitas em um dia.\n",
    "dfmax.groupby([\"categoria\"]).max()[\"user\"].sort_values(ascending = False).head(10)"
   ]
  },
  {
   "cell_type": "code",
   "execution_count": 75,
   "metadata": {},
   "outputs": [
    {
     "data": {
      "text/plain": [
       "categoria\n",
       "restaurant                243\n",
       "store                     132\n",
       "school                     54\n",
       "grocery_or_supermarket     47\n",
       "lodging                    45\n",
       "bar                        44\n",
       "storage                    44\n",
       "car_repair                 33\n",
       "bakery                     31\n",
       "hospital                   26\n",
       "Name: user, dtype: int64"
      ]
     },
     "execution_count": 75,
     "metadata": {},
     "output_type": "execute_result"
    }
   ],
   "source": [
    "#Aqui podemos ver facilmente quais foram o número mínimo de visitas em um dia.\n",
    "dfmax.groupby([\"categoria\"]).min()[\"user\"].sort_values(ascending = False).head(10)"
   ]
  },
  {
   "cell_type": "code",
   "execution_count": 104,
   "metadata": {},
   "outputs": [
    {
     "data": {
      "text/plain": [
       "<matplotlib.axes._subplots.AxesSubplot at 0x7f019c86a208>"
      ]
     },
     "execution_count": 104,
     "metadata": {},
     "output_type": "execute_result"
    },
    {
     "data": {
      "image/png": "[encoded data removed]",
      "text/plain": [
       "<Figure size 576x396 with 1 Axes>"
      ]
     },
     "metadata": {},
     "output_type": "display_data"
    }
   ],
   "source": [
    "dfmax.groupby([\"categoria\"]).max()[\"user\"].sort_values(ascending = False).head(10).plot.bar()"
   ]
  },
  {
   "cell_type": "code",
   "execution_count": 105,
   "metadata": {},
   "outputs": [
    {
     "data": {
      "text/plain": [
       "<matplotlib.axes._subplots.AxesSubplot at 0x7f019ec87550>"
      ]
     },
     "execution_count": 105,
     "metadata": {},
     "output_type": "execute_result"
    },
    {
     "data": {
      "image/png": "[encoded data removed]",
      "text/plain": [
       "<Figure size 576x396 with 1 Axes>"
      ]
     },
     "metadata": {},
     "output_type": "display_data"
    }
   ],
   "source": [
    "dfmax.groupby([\"categoria\"]).min()[\"user\"].sort_values(ascending = False).head(10).plot.bar()"
   ]
  },
  {
   "cell_type": "markdown",
   "metadata": {},
   "source": [
    "#### 4) Quais são os usuários mais engajados por categoria?"
   ]
  },
  {
   "cell_type": "markdown",
   "metadata": {},
   "source": [
    "#### Sabendo quem são os usuários que mais visitam um determinado tipo de estabelecimento, é possível direcionar campanhas para o smartphone desse usuário por push notification quando o mesmo se aproximar do estabelecimento de nosso cliente ou recomenda-lo no dia em que nosso usuário costuma frequentar esse tipo de estabelecimento."
   ]
  },
  {
   "cell_type": "code",
   "execution_count": 152,
   "metadata": {},
   "outputs": [
    {
     "data": {
      "text/html": [
       "<div>\n",
       "<style scoped>\n",
       "    .dataframe tbody tr th:only-of-type {\n",
       "        vertical-align: middle;\n",
       "    }\n",
       "\n",
       "    .dataframe tbody tr th {\n",
       "        vertical-align: top;\n",
       "    }\n",
       "\n",
       "    .dataframe thead th {\n",
       "        text-align: right;\n",
       "    }\n",
       "</style>\n",
       "<table border=\"1\" class=\"dataframe\">\n",
       "  <thead>\n",
       "    <tr style=\"text-align: right;\">\n",
       "      <th></th>\n",
       "      <th>categoria</th>\n",
       "      <th>user</th>\n",
       "      <th>count</th>\n",
       "    </tr>\n",
       "  </thead>\n",
       "  <tbody>\n",
       "    <tr>\n",
       "      <th>169</th>\n",
       "      <td>accounting</td>\n",
       "      <td>User_4819</td>\n",
       "      <td>2</td>\n",
       "    </tr>\n",
       "    <tr>\n",
       "      <th>206</th>\n",
       "      <td>accounting</td>\n",
       "      <td>User_5813</td>\n",
       "      <td>2</td>\n",
       "    </tr>\n",
       "    <tr>\n",
       "      <th>0</th>\n",
       "      <td>accounting</td>\n",
       "      <td>User_103</td>\n",
       "      <td>1</td>\n",
       "    </tr>\n",
       "    <tr>\n",
       "      <th>1</th>\n",
       "      <td>accounting</td>\n",
       "      <td>User_108</td>\n",
       "      <td>1</td>\n",
       "    </tr>\n",
       "    <tr>\n",
       "      <th>2</th>\n",
       "      <td>accounting</td>\n",
       "      <td>User_1088</td>\n",
       "      <td>1</td>\n",
       "    </tr>\n",
       "  </tbody>\n",
       "</table>\n",
       "</div>"
      ],
      "text/plain": [
       "      categoria       user  count\n",
       "169  accounting  User_4819      2\n",
       "206  accounting  User_5813      2\n",
       "0    accounting   User_103      1\n",
       "1    accounting   User_108      1\n",
       "2    accounting  User_1088      1"
      ]
     },
     "execution_count": 152,
     "metadata": {},
     "output_type": "execute_result"
    }
   ],
   "source": [
    "#Criando o dataframe com o resultado\n",
    "dfuser = pd.DataFrame({'count' : df.groupby([\"categoria\",\"user\"]).size()}).reset_index().sort_values(by=[\"categoria\",\"count\"], ascending = [True,False])\n",
    "#Trazendo os 5 melhores por categoria\n",
    "dfuser = dfuser.groupby([\"categoria\"]).head(5)\n",
    "#Filtrando a categoria desejada\n",
    "dfuser[dfuser[\"categoria\"] == 'accounting']"
   ]
  },
  {
   "cell_type": "code",
   "execution_count": 155,
   "metadata": {},
   "outputs": [
    {
     "data": {
      "text/plain": [
       "<matplotlib.axes._subplots.AxesSubplot at 0x7f016872b358>"
      ]
     },
     "execution_count": 155,
     "metadata": {},
     "output_type": "execute_result"
    },
    {
     "data": {
      "image/png": "[encoded data removed]",
      "text/plain": [
       "<Figure size 576x396 with 1 Axes>"
      ]
     },
     "metadata": {},
     "output_type": "display_data"
    }
   ],
   "source": [
    "x = dfuser[dfuser[\"categoria\"] == 'accounting']\n",
    "x.plot.bar(x='user', y='count')"
   ]
  },
  {
   "cell_type": "markdown",
   "metadata": {},
   "source": [
    "#### 5) Quantos visitantes aparecem por dia por categoria?"
   ]
  },
  {
   "cell_type": "markdown",
   "metadata": {},
   "source": [
    "#### Esse dado é importante pois com o acompanhamento da frequencia de visitas, podemos com essa métrica saber se depois de uma campanha, ou ação nossa ou do cliente se vai haver aumento da frequencia de usuários que visitam o cliente."
   ]
  },
  {
   "cell_type": "code",
   "execution_count": 170,
   "metadata": {},
   "outputs": [],
   "source": [
    "sqlf = pd.read_sql_query('''select categoria, date_trunc('day', date::date), count(*)\n",
    "from user_activity\n",
    "group by  categoria, date_trunc('day', date::date)\n",
    "order by  categoria, date_trunc('day', date::date)''',con = pg2.connect(host='postgres',database='postgres',user='postgres',password='postgres'))"
   ]
  },
  {
   "cell_type": "code",
   "execution_count": 180,
   "metadata": {},
   "outputs": [
    {
     "data": {
      "text/html": [
       "<div>\n",
       "<style scoped>\n",
       "    .dataframe tbody tr th:only-of-type {\n",
       "        vertical-align: middle;\n",
       "    }\n",
       "\n",
       "    .dataframe tbody tr th {\n",
       "        vertical-align: top;\n",
       "    }\n",
       "\n",
       "    .dataframe thead th {\n",
       "        text-align: right;\n",
       "    }\n",
       "</style>\n",
       "<table border=\"1\" class=\"dataframe\">\n",
       "  <thead>\n",
       "    <tr style=\"text-align: right;\">\n",
       "      <th></th>\n",
       "      <th>categoria</th>\n",
       "      <th>date_trunc</th>\n",
       "      <th>count</th>\n",
       "    </tr>\n",
       "  </thead>\n",
       "  <tbody>\n",
       "    <tr>\n",
       "      <th>0</th>\n",
       "      <td>accounting</td>\n",
       "      <td>2018-07-01 00:00:00+00:00</td>\n",
       "      <td>11</td>\n",
       "    </tr>\n",
       "    <tr>\n",
       "      <th>1</th>\n",
       "      <td>accounting</td>\n",
       "      <td>2018-07-02 00:00:00+00:00</td>\n",
       "      <td>16</td>\n",
       "    </tr>\n",
       "    <tr>\n",
       "      <th>2</th>\n",
       "      <td>accounting</td>\n",
       "      <td>2018-07-03 00:00:00+00:00</td>\n",
       "      <td>23</td>\n",
       "    </tr>\n",
       "    <tr>\n",
       "      <th>3</th>\n",
       "      <td>accounting</td>\n",
       "      <td>2018-07-04 00:00:00+00:00</td>\n",
       "      <td>20</td>\n",
       "    </tr>\n",
       "    <tr>\n",
       "      <th>4</th>\n",
       "      <td>accounting</td>\n",
       "      <td>2018-07-05 00:00:00+00:00</td>\n",
       "      <td>14</td>\n",
       "    </tr>\n",
       "  </tbody>\n",
       "</table>\n",
       "</div>"
      ],
      "text/plain": [
       "    categoria                date_trunc  count\n",
       "0  accounting 2018-07-01 00:00:00+00:00     11\n",
       "1  accounting 2018-07-02 00:00:00+00:00     16\n",
       "2  accounting 2018-07-03 00:00:00+00:00     23\n",
       "3  accounting 2018-07-04 00:00:00+00:00     20\n",
       "4  accounting 2018-07-05 00:00:00+00:00     14"
      ]
     },
     "execution_count": 180,
     "metadata": {},
     "output_type": "execute_result"
    }
   ],
   "source": [
    "dfsql = pd.DataFrame(sqlf).head()\n",
    "dfsql"
   ]
  },
  {
   "cell_type": "markdown",
   "metadata": {},
   "source": [
    "### **2º)Descreva, de forma resumida, como você acha que a análise de dados pode auxiliar no acompanhamento e direcionamento das seguintes áreas da In Loco:**\n",
    "#### • RH \n",
    "#### • Financeiro \n",
    "#### • Imprensa/Marketing\n",
    "#### **Dê exemplos.**"
   ]
  },
  {
   "cell_type": "markdown",
   "metadata": {},
   "source": [
    "É possível através da análise de dados criar métricas de sucesso para as três áreas abaixo.\n",
    "Seguindo pela ordem, dentro da área de recursos humanos é possível usar a análise de dados para determinar uma série de fatores, começando sobre os meus candidatos usando o perfil demográfico ex(nível de escolaridade, sexo, idade, localidade, tipo de perfil), com isso eu consigo dizer se meu processo seletivo está tendo assertividade e que minhas ações estão trazendo os candidatos certos para cada tipo de vaga.\n",
    "Além disso com a razão candidatos por vaga x nº de contratados na vaga eu consigo trazer a razão para que meu RH saiba que por exemplo que com X candidatos em vaga do tipo y eu consigo uma contratação e assim meu time irá saber se deve desprender mais esforços com mídia caso necessite de mais candidatos para o funil e chegar a contratação desejada. Saindo de candidatos, outra métrica importante é o SLA médio das minhas vagas, pois com essa visão macro eu começo a perceber se podem haver gargalos durante meu processo seletivo, junto a esta está o SLA médio por etapa que me diz quais as etapas meus candidatos estão a mais tempo. Sabendo disso pode se investigar se o gargalo é uma pessoa, como um gestor ou se é por exemplo falta de engajamento dos candidatos, que pode ir desde uma etapa mal descrita a uma etapa complicada como uma etapa de vídeo onde nem todo candidato se sente confortável.\n",
    "De modo mais gerencial, temos também a quantidade de vagas abertas no prazo e fora do prazo, que nos ajuda a saber o volume de trabalho e esforço devemos desprender para manter nossas metas em dia.\n",
    "\n",
    "Já no financeiro, há métricas importantes que a análise de dados no auxilia como por exemplo Chun, Net Churn, Upsell e MMR.\n",
    "Com os dados do cliente e o MMR do mesmo é possível se prever qual o valor a ser cobrado através de uma regressão por exemplo e assim garantir que estamos cobrando de uma maneira eficiente clientes que estão entrando. Em relação aos dados de Churn de nossos clientes podemos criar um algoritmo para prever se algum cliente esta para \"churnar\" e assim tomar ações para reverter essa situação, ex: um cliente passou a acessar e a interagir com a plataforma cada vez menos ao comparar sua atividade mês a mês, isso pode ser indício de que o mesmo irá churnar. Por isso ter um algoritmo e/ou métricas de healthscore que deem visibilidade aos meus times sobre um possível cliente churnar.\n",
    "Em relação ao Net churn e Upsell são dados que devem ser utilizados de maneira que no net churn eu contabilizo a receita perdida durante um churn, então posso utilizar de upsell para compensar a receita perdida e assim chegar a meta do time. Os dados de upsell, mais os dados do cliente também ajudam a desenvolver algoritmos que nos ajudem a prever os clientes aos quais nosso time possa oferecer upsell.\n",
    "\n",
    "Com relação à imprensa/marketing podemos contabilizar os leads qualificados e criar um funil de conversão da área de marketing para a área de vendas.\n",
    "Outra métrica importante é a de tráfego de nossas mídias sociais, onde através dos dados podemos ver o engajamento de nossos leads em relação ao conteúdo lançado por nós para que possamos então qualificar os leads. Também é possível através dos dados de tráfego a previsão de aumento e diminuição do tráfego."
   ]
  }
 ],
 "metadata": {
  "kernelspec": {
   "display_name": "Python 3",
   "language": "python",
   "name": "python3"
  },
  "language_info": {
   "codemirror_mode": {
    "name": "ipython",
    "version": 3
   },
   "file_extension": ".py",
   "mimetype": "text/x-python",
   "name": "python",
   "nbconvert_exporter": "python",
   "pygments_lexer": "ipython3",
   "version": "3.6.8"
  }
 },
 "nbformat": 4,
 "nbformat_minor": 2
}
